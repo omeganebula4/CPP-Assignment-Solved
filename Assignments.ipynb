{
 "cells": [
  {
   "cell_type": "markdown",
   "metadata": {},
   "source": [
    "# **Basic Python**"
   ]
  },
  {
   "cell_type": "markdown",
   "metadata": {},
   "source": [
    "## 1.a \n",
    "Give a function F that takes a single argument n. This function should print a sequence of n strings as described in the examples below: <br>\n",
    "Ex: **n = 3**\n",
    "\n",
    "--A--<br>\n",
    "-BAB-<br>\n",
    "CBABC<br>\n",
    "\n",
    "**n = 4**\n",
    "\n",
    "---A---<br>\n",
    "--BAB--<br>\n",
    "-CBABC-<br>\n",
    "DCBABCD"
   ]
  },
  {
   "cell_type": "code",
   "metadata": {
    "ExecuteTime": {
     "end_time": "2024-12-05T05:10:17.620422Z",
     "start_time": "2024-12-05T05:10:17.609787Z"
    }
   },
   "source": [
    "def F(n):\n",
    "    for i in range(n):\n",
    "        for j in range(n-i-1):\n",
    "            print(\"-\", end=\"\")\n",
    "        for j in range(i):\n",
    "            print(chr(65+i-j), end=\"\")\n",
    "        print(\"A\", end=\"\")\n",
    "        for j in range(i-1, -1, -1):\n",
    "            print(chr(65+i-j), end=\"\")\n",
    "        for j in range(n-i-1):\n",
    "            print(\"-\", end=\"\")\n",
    "        print(\"\\n\")\n",
    "    pass\n",
    "\n",
    "\n",
    "# Tests\n",
    "F(10)\n",
    "F(6)"
   ],
   "outputs": [
    {
     "name": "stdout",
     "output_type": "stream",
     "text": [
      "---------A---------\n",
      "\n",
      "--------BAB--------\n",
      "\n",
      "-------CBABC-------\n",
      "\n",
      "------DCBABCD------\n",
      "\n",
      "-----EDCBABCDE-----\n",
      "\n",
      "----FEDCBABCDEF----\n",
      "\n",
      "---GFEDCBABCDEFG---\n",
      "\n",
      "--HGFEDCBABCDEFGH--\n",
      "\n",
      "-IHGFEDCBABCDEFGHI-\n",
      "\n",
      "JIHGFEDCBABCDEFGHIJ\n",
      "\n",
      "-----A-----\n",
      "\n",
      "----BAB----\n",
      "\n",
      "---CBABC---\n",
      "\n",
      "--DCBABCD--\n",
      "\n",
      "-EDCBABCDE-\n",
      "\n",
      "FEDCBABCDEF\n",
      "\n"
     ]
    }
   ],
   "execution_count": 201
  },
  {
   "cell_type": "markdown",
   "metadata": {},
   "source": [
    "## 1.b\n",
    "Make a function F that takes only one argument, a dictionary(dict) d.\n",
    "The keys of d are integers and the values of d are a tuple of type (x (int), y (int)).\n",
    "You must print out the dict in the format \"-key-, -x-, -y-\" with each entry in a new line. Print it for each of the three sorted orders, by key values ascending, by x values descending, by y values ascending."
   ]
  },
  {
   "cell_type": "code",
   "metadata": {
    "ExecuteTime": {
     "end_time": "2024-12-05T05:10:17.649491Z",
     "start_time": "2024-12-05T05:10:17.639267Z"
    }
   },
   "source": [
    "def F(d: dict):\n",
    "\n",
    "    print(\"Key Values Ascending:\")\n",
    "    PrintDict(dict(sorted(d.items(), key=lambda item: item[0])))\n",
    "\n",
    "    print(\"\\nx Values Descending:\")\n",
    "    PrintDict(\n",
    "        dict(sorted(d.items(), key=lambda item: item[1][0], reverse=True)))\n",
    "\n",
    "    print(\"\\ny Values Ascending:\")\n",
    "    PrintDict(dict(sorted(d.items(), key=lambda item: item[1][1])))\n",
    "\n",
    "    print(\"\\n\")\n",
    "\n",
    "    pass\n",
    "\n",
    "\n",
    "def PrintDict(d: dict):\n",
    "    for key in d:\n",
    "        print(\"%d,%d,%d\" % (key, d[key][0], d[key][1]))\n",
    "    pass\n",
    "\n",
    "\n",
    "# Tests\n",
    "F({1: (1, 2), 2: (-1, 4), 5: (-4, 3), 4: (2, 3)})\n",
    "F({-8: (4, 2), 6: (-3, 4), 7: (2, 1), 5: (9, -10)})"
   ],
   "outputs": [
    {
     "name": "stdout",
     "output_type": "stream",
     "text": [
      "Key Values Ascending:\n",
      "1,1,2\n",
      "2,-1,4\n",
      "4,2,3\n",
      "5,-4,3\n",
      "\n",
      "x Values Descending:\n",
      "4,2,3\n",
      "1,1,2\n",
      "2,-1,4\n",
      "5,-4,3\n",
      "\n",
      "y Values Ascending:\n",
      "1,1,2\n",
      "5,-4,3\n",
      "4,2,3\n",
      "2,-1,4\n",
      "\n",
      "\n",
      "Key Values Ascending:\n",
      "-8,4,2\n",
      "5,9,-10\n",
      "6,-3,4\n",
      "7,2,1\n",
      "\n",
      "x Values Descending:\n",
      "5,9,-10\n",
      "-8,4,2\n",
      "7,2,1\n",
      "6,-3,4\n",
      "\n",
      "y Values Ascending:\n",
      "5,9,-10\n",
      "7,2,1\n",
      "-8,4,2\n",
      "6,-3,4\n",
      "\n",
      "\n"
     ]
    }
   ],
   "execution_count": 202
  },
  {
   "cell_type": "markdown",
   "metadata": {},
   "source": [
    "## 2 Working with Student Records\n",
    "\n",
    "Use the data in **student_records.csv** to complete the given tasks. Do not include any external libraries. Use a Python dictionary if required.\n",
    "\n",
    "### Reference\n",
    "- [Python Dictionaries](https://www.w3schools.com/python/python_dictionaries.asp)\n"
   ]
  },
  {
   "cell_type": "markdown",
   "metadata": {},
   "source": [
    "#### 2.a: open the student_records.csv file and print out the first 10 rows"
   ]
  },
  {
   "cell_type": "code",
   "metadata": {
    "ExecuteTime": {
     "end_time": "2024-12-05T05:10:17.669583Z",
     "start_time": "2024-12-05T05:10:17.664572Z"
    }
   },
   "source": [
    "file = open(\"student_records.csv\", \"r\")\n",
    "for i in range(10):\n",
    "    print(file.readline(), end=\"\")"
   ],
   "outputs": [
    {
     "name": "stdout",
     "output_type": "stream",
     "text": [
      "roll_number,department,credit,course_name,course_type,grade\n",
      "588946,MA,3,EC250,hasmed_elective,AB\n",
      "145372,EP,4,EP407,hasmed_elective,CC\n",
      "834515,MA,8,EP885,hasmed_elective,BB\n",
      "344265,CSE,6,CSE699,honours,AB\n",
      "358405,MA,3,EE460,minor,AP\n",
      "781075,CE,8,CE540,honours,CC\n",
      "180828,CSE,6,CE880,minor,AB\n",
      "981238,MM,4,CSE226,minor,AB\n",
      "836881,MM,8,MM530,core,AA\n"
     ]
    }
   ],
   "execution_count": 203
  },
  {
   "cell_type": "markdown",
   "metadata": {},
   "source": [
    "#### 2.b: Print out the total credits and calculte CPI of each student. \n",
    "CPI is the weighted average of core courses, and electives (weights being the letter grades converted to number AP,AA=10, AB=9, BB=9, BC=7, CC=6)"
   ]
  },
  {
   "cell_type": "code",
   "metadata": {
    "ExecuteTime": {
     "end_time": "2024-12-05T05:10:17.711612Z",
     "start_time": "2024-12-05T05:10:17.689592Z"
    }
   },
   "source": [
    "GRADE_CONVERT = {\"AP\": 10, \"AA\": 10, \"AB\": 9, \"BB\": 8, \"BC\": 7, \"CC\": 6}\n",
    "\n",
    "file = open(\"student_records.csv\")\n",
    "lines = file.readlines()[1:]\n",
    "\n",
    "student_dict = {}\n",
    "\n",
    "for line in lines:\n",
    "    data = line.split(\",\")\n",
    "    student_details = (data[0], data[1])\n",
    "    course_dict = {\"Credits\": int(data[2]), \"Course Code\": data[3],\n",
    "                   \"Course Type\": data[4], \"Grade\": GRADE_CONVERT[data[5].replace('\\n', '')]}\n",
    "    if student_details in student_dict:\n",
    "        student_dict[student_details].append(course_dict)\n",
    "    else:\n",
    "        student_dict[student_details] = [course_dict]\n",
    "\n",
    "file.close()\n",
    "\n",
    "for student in student_dict:\n",
    "    print(\"Roll Number: \" +\n",
    "          student[0] + \", Department: \" + student[1] + \", CPI: \", end=\"\")\n",
    "    sum = 0\n",
    "    creds = 0\n",
    "    for course in student_dict[student]:\n",
    "        sum += course[\"Credits\"] * course[\"Grade\"]\n",
    "        creds += course[\"Credits\"]\n",
    "    print(sum/creds)"
   ],
   "outputs": [
    {
     "name": "stdout",
     "output_type": "stream",
     "text": [
      "Roll Number: 588946, Department: MA, CPI: 8.693467336683417\n",
      "Roll Number: 145372, Department: EP, CPI: 7.745664739884393\n",
      "Roll Number: 834515, Department: MA, CPI: 8.21608040201005\n",
      "Roll Number: 344265, Department: CSE, CPI: 8.699346405228757\n",
      "Roll Number: 358405, Department: MA, CPI: 8.587378640776699\n",
      "Roll Number: 781075, Department: CE, CPI: 8.170731707317072\n",
      "Roll Number: 180828, Department: CSE, CPI: 8.096045197740112\n",
      "Roll Number: 981238, Department: MM, CPI: 8.244047619047619\n",
      "Roll Number: 836881, Department: MM, CPI: 8.386178861788618\n",
      "Roll Number: 310604, Department: EE, CPI: 8.333333333333334\n",
      "Roll Number: 847809, Department: IE, CPI: 8.210727969348659\n",
      "Roll Number: 773982, Department: EE, CPI: 8.068181818181818\n",
      "Roll Number: 500658, Department: CE, CPI: 8.16826923076923\n",
      "Roll Number: 810863, Department: CE, CPI: 8.151041666666666\n",
      "Roll Number: 124663, Department: EE, CPI: 8.126637554585153\n",
      "Roll Number: 364146, Department: MA, CPI: 8.395555555555555\n",
      "Roll Number: 871746, Department: IE, CPI: 8.212962962962964\n",
      "Roll Number: 270007, Department: IE, CPI: 8.033195020746888\n",
      "Roll Number: 597353, Department: CSE, CPI: 8.12\n",
      "Roll Number: 986057, Department: ME, CPI: 8.06532663316583\n",
      "Roll Number: 718510, Department: EP, CPI: 8.429347826086957\n",
      "Roll Number: 836431, Department: EE, CPI: 7.9\n",
      "Roll Number: 379479, Department: MA, CPI: 8.246153846153845\n",
      "Roll Number: 582912, Department: CH, CPI: 8.656108597285067\n",
      "Roll Number: 788020, Department: CE, CPI: 8.015544041450777\n",
      "Roll Number: 613401, Department: CE, CPI: 8.440191387559809\n",
      "Roll Number: 144528, Department: ME, CPI: 8.157894736842104\n",
      "Roll Number: 485484, Department: MM, CPI: 8.36111111111111\n",
      "Roll Number: 680096, Department: CH, CPI: 8.045751633986928\n",
      "Roll Number: 199713, Department: EE, CPI: 8.290697674418604\n",
      "Roll Number: 851029, Department: CSE, CPI: 8.322981366459627\n",
      "Roll Number: 845623, Department: EE, CPI: 8.375527426160337\n",
      "Roll Number: 150503, Department: CH, CPI: 8.289017341040463\n",
      "Roll Number: 214270, Department: CH, CPI: 7.877729257641922\n",
      "Roll Number: 517837, Department: CH, CPI: 8.580487804878048\n",
      "Roll Number: 482623, Department: IE, CPI: 8.401574803149606\n",
      "Roll Number: 721490, Department: EP, CPI: 8.34468085106383\n",
      "Roll Number: 955757, Department: MM, CPI: 8.290836653386455\n",
      "Roll Number: 589528, Department: EE, CPI: 8.732026143790849\n",
      "Roll Number: 143856, Department: CE, CPI: 8.487562189054726\n",
      "Roll Number: 571782, Department: ME, CPI: 8.423963133640553\n",
      "Roll Number: 973158, Department: EE, CPI: 8.512953367875648\n",
      "Roll Number: 703403, Department: EC, CPI: 8.338582677165354\n",
      "Roll Number: 960395, Department: EE, CPI: 8.625954198473282\n",
      "Roll Number: 521087, Department: CSE, CPI: 7.910313901345291\n",
      "Roll Number: 461971, Department: CE, CPI: 8.293650793650794\n",
      "Roll Number: 879634, Department: EP, CPI: 8.738916256157635\n",
      "Roll Number: 716985, Department: MM, CPI: 8.183783783783785\n",
      "Roll Number: 194063, Department: EP, CPI: 8.140127388535031\n",
      "Roll Number: 265922, Department: EP, CPI: 8.347457627118644\n",
      "Roll Number: 283796, Department: ME, CPI: 8.815165876777252\n",
      "Roll Number: 203200, Department: CH, CPI: 8.789808917197453\n",
      "Roll Number: 301135, Department: IE, CPI: 8.325242718446601\n",
      "Roll Number: 327122, Department: MM, CPI: 8.16260162601626\n",
      "Roll Number: 381526, Department: CE, CPI: 8.425\n",
      "Roll Number: 534763, Department: MA, CPI: 7.930379746835443\n",
      "Roll Number: 391848, Department: ME, CPI: 8.43778801843318\n",
      "Roll Number: 329535, Department: EC, CPI: 8.229299363057326\n",
      "Roll Number: 971123, Department: MA, CPI: 7.961904761904762\n",
      "Roll Number: 207443, Department: ME, CPI: 8.304347826086957\n",
      "Roll Number: 488661, Department: EE, CPI: 8.60483870967742\n",
      "Roll Number: 782129, Department: MA, CPI: 8.53804347826087\n",
      "Roll Number: 928288, Department: CSE, CPI: 8.513089005235603\n",
      "Roll Number: 581858, Department: MA, CPI: 8.050925925925926\n",
      "Roll Number: 733782, Department: CH, CPI: 8.420118343195266\n",
      "Roll Number: 282482, Department: MM, CPI: 8.289473684210526\n",
      "Roll Number: 572815, Department: CSE, CPI: 8.316037735849056\n",
      "Roll Number: 608952, Department: EP, CPI: 8.326693227091633\n",
      "Roll Number: 628849, Department: MA, CPI: 8.71584699453552\n",
      "Roll Number: 630568, Department: EP, CPI: 8.244239631336406\n",
      "Roll Number: 388969, Department: CSE, CPI: 8.314410480349345\n",
      "Roll Number: 159438, Department: EE, CPI: 8.380681818181818\n",
      "Roll Number: 478606, Department: CE, CPI: 8.319672131147541\n",
      "Roll Number: 995208, Department: ME, CPI: 7.7834394904458595\n",
      "Roll Number: 841365, Department: MA, CPI: 7.994350282485875\n",
      "Roll Number: 870642, Department: MM, CPI: 8.01863354037267\n",
      "Roll Number: 970791, Department: MA, CPI: 8.122727272727273\n",
      "Roll Number: 143142, Department: CSE, CPI: 8.782051282051283\n",
      "Roll Number: 998293, Department: ME, CPI: 8.695652173913043\n",
      "Roll Number: 907454, Department: CSE, CPI: 8.269387755102041\n",
      "Roll Number: 681499, Department: CH, CPI: 8.256410256410257\n",
      "Roll Number: 888886, Department: CE, CPI: 8.270531400966183\n",
      "Roll Number: 608522, Department: EC, CPI: 8.61006289308176\n",
      "Roll Number: 362471, Department: EE, CPI: 7.929906542056075\n",
      "Roll Number: 465496, Department: MA, CPI: 8.303571428571429\n",
      "Roll Number: 208100, Department: EE, CPI: 8.587912087912088\n",
      "Roll Number: 138296, Department: MM, CPI: 8.275\n",
      "Roll Number: 775967, Department: EC, CPI: 8.431472081218274\n",
      "Roll Number: 692318, Department: CSE, CPI: 8.166666666666666\n",
      "Roll Number: 461584, Department: EE, CPI: 8.235042735042734\n",
      "Roll Number: 626000, Department: EC, CPI: 8.428571428571429\n",
      "Roll Number: 458200, Department: EC, CPI: 8.394736842105264\n",
      "Roll Number: 581065, Department: EP, CPI: 8.224489795918368\n",
      "Roll Number: 787967, Department: EC, CPI: 8.411458333333334\n",
      "Roll Number: 381227, Department: CE, CPI: 8.223463687150838\n",
      "Roll Number: 750259, Department: MM, CPI: 8.354066985645932\n",
      "Roll Number: 881983, Department: MA, CPI: 8.325443786982248\n",
      "Roll Number: 294697, Department: MM, CPI: 8.572490706319703\n",
      "Roll Number: 816041, Department: MA, CPI: 8.462025316455696\n",
      "Roll Number: 993835, Department: CE, CPI: 8.434285714285714\n"
     ]
    }
   ],
   "execution_count": 204
  },
  {
   "cell_type": "markdown",
   "metadata": {},
   "source": [
    "#### 2.c: Print out the names of all students who meet the graduation requirements \n",
    "Atleast 20 credist of core course, 15 credits of department elective, 10 credits of flexible elective and 5 credits of hasmed electives"
   ]
  },
  {
   "cell_type": "code",
   "metadata": {
    "ExecuteTime": {
     "end_time": "2024-12-05T05:10:17.735764Z",
     "start_time": "2024-12-05T05:10:17.719705Z"
    }
   },
   "source": [
    "GRADE_CONVERT = {\"AP\": 10, \"AA\": 10, \"AB\": 9, \"BB\": 8, \"BC\": 7, \"CC\": 6}\n",
    "\n",
    "file = open(\"student_records.csv\")\n",
    "lines = file.readlines()[1:]\n",
    "\n",
    "student_dict = {}\n",
    "\n",
    "for line in lines:\n",
    "    data = line.split(\",\")\n",
    "    student_details = (data[0], data[1])\n",
    "    course_dict = {\"Credits\": int(data[2]), \"Course Code\": data[3],\n",
    "                   \"Course Type\": data[4], \"Grade\": GRADE_CONVERT[data[5].replace('\\n', '')]}\n",
    "    if student_details in student_dict:\n",
    "        student_dict[student_details].append(course_dict)\n",
    "    else:\n",
    "        student_dict[student_details] = [course_dict]\n",
    "\n",
    "file.close()\n",
    "\n",
    "for student in student_dict:\n",
    "    core_creds = 0\n",
    "    dept_elect_creds = 0\n",
    "    flex_elect_creds = 0\n",
    "    hasmed_elect_creds = 0\n",
    "    for course in student_dict[student]:\n",
    "        match course[\"Course Type\"]:\n",
    "            case \"core\":\n",
    "                core_creds += course[\"Credits\"]\n",
    "            case \"department_elective\":\n",
    "                dept_elect_creds += course[\"Credits\"]\n",
    "            case \"flexible_elective\":\n",
    "                flex_elect_creds += course[\"Credits\"]\n",
    "            case \"hasmed_elective\":\n",
    "                hasmed_elect_creds += course[\"Credits\"]\n",
    "            case _:\n",
    "                pass\n",
    "    if (core_creds >= 20 and dept_elect_creds >= 15 and flex_elect_creds >= 10 and hasmed_elect_creds >= 5):\n",
    "        print(\"Roll Number: \" + student[0] + \", Department: \" + student[1])"
   ],
   "outputs": [
    {
     "name": "stdout",
     "output_type": "stream",
     "text": [
      "Roll Number: 588946, Department: MA\n",
      "Roll Number: 834515, Department: MA\n",
      "Roll Number: 781075, Department: CE\n",
      "Roll Number: 180828, Department: CSE\n",
      "Roll Number: 981238, Department: MM\n",
      "Roll Number: 836881, Department: MM\n",
      "Roll Number: 310604, Department: EE\n",
      "Roll Number: 773982, Department: EE\n",
      "Roll Number: 500658, Department: CE\n",
      "Roll Number: 810863, Department: CE\n",
      "Roll Number: 124663, Department: EE\n",
      "Roll Number: 871746, Department: IE\n",
      "Roll Number: 986057, Department: ME\n",
      "Roll Number: 379479, Department: MA\n",
      "Roll Number: 144528, Department: ME\n",
      "Roll Number: 485484, Department: MM\n",
      "Roll Number: 845623, Department: EE\n",
      "Roll Number: 150503, Department: CH\n",
      "Roll Number: 214270, Department: CH\n",
      "Roll Number: 517837, Department: CH\n",
      "Roll Number: 482623, Department: IE\n",
      "Roll Number: 721490, Department: EP\n",
      "Roll Number: 955757, Department: MM\n",
      "Roll Number: 143856, Department: CE\n",
      "Roll Number: 571782, Department: ME\n",
      "Roll Number: 973158, Department: EE\n",
      "Roll Number: 703403, Department: EC\n",
      "Roll Number: 960395, Department: EE\n",
      "Roll Number: 521087, Department: CSE\n",
      "Roll Number: 461971, Department: CE\n",
      "Roll Number: 879634, Department: EP\n",
      "Roll Number: 716985, Department: MM\n",
      "Roll Number: 265922, Department: EP\n",
      "Roll Number: 283796, Department: ME\n",
      "Roll Number: 203200, Department: CH\n",
      "Roll Number: 327122, Department: MM\n",
      "Roll Number: 534763, Department: MA\n",
      "Roll Number: 391848, Department: ME\n",
      "Roll Number: 971123, Department: MA\n",
      "Roll Number: 207443, Department: ME\n",
      "Roll Number: 488661, Department: EE\n",
      "Roll Number: 782129, Department: MA\n",
      "Roll Number: 928288, Department: CSE\n",
      "Roll Number: 581858, Department: MA\n",
      "Roll Number: 282482, Department: MM\n",
      "Roll Number: 572815, Department: CSE\n",
      "Roll Number: 608952, Department: EP\n",
      "Roll Number: 628849, Department: MA\n",
      "Roll Number: 630568, Department: EP\n",
      "Roll Number: 388969, Department: CSE\n",
      "Roll Number: 159438, Department: EE\n",
      "Roll Number: 970791, Department: MA\n",
      "Roll Number: 143142, Department: CSE\n",
      "Roll Number: 998293, Department: ME\n",
      "Roll Number: 681499, Department: CH\n",
      "Roll Number: 888886, Department: CE\n",
      "Roll Number: 608522, Department: EC\n",
      "Roll Number: 362471, Department: EE\n",
      "Roll Number: 692318, Department: CSE\n",
      "Roll Number: 626000, Department: EC\n",
      "Roll Number: 581065, Department: EP\n",
      "Roll Number: 787967, Department: EC\n",
      "Roll Number: 381227, Department: CE\n",
      "Roll Number: 750259, Department: MM\n",
      "Roll Number: 881983, Department: MA\n",
      "Roll Number: 294697, Department: MM\n"
     ]
    }
   ],
   "execution_count": 205
  },
  {
   "cell_type": "markdown",
   "metadata": {},
   "source": [
    "#### 2.d: Print out the names of all students who completed a minor \n",
    "Atleast 10 credits with minor tag in a specific department"
   ]
  },
  {
   "cell_type": "code",
   "metadata": {
    "ExecuteTime": {
     "end_time": "2024-12-05T05:10:17.760089Z",
     "start_time": "2024-12-05T05:10:17.743239Z"
    }
   },
   "source": [
    "GRADE_CONVERT = {\"AP\": 10, \"AA\": 10, \"AB\": 9, \"BB\": 8, \"BC\": 7, \"CC\": 6}\n",
    "\n",
    "file = open(\"student_records.csv\")\n",
    "lines = file.readlines()[1:]\n",
    "\n",
    "student_dict = {}\n",
    "\n",
    "for line in lines:\n",
    "    data = line.split(\",\")\n",
    "    student_details = (data[0], data[1])\n",
    "    course_dict = {\"Credits\": int(data[2]), \"Course Code\": data[3],\n",
    "                   \"Course Type\": data[4], \"Grade\": GRADE_CONVERT[data[5].replace('\\n', '')]}\n",
    "    if student_details in student_dict:\n",
    "        student_dict[student_details].append(course_dict)\n",
    "    else:\n",
    "        student_dict[student_details] = [course_dict]\n",
    "\n",
    "file.close()\n",
    "\n",
    "for student in student_dict:\n",
    "    minor_dict = {}\n",
    "    for course in student_dict[student]:\n",
    "        if course[\"Course Type\"] == \"minor\":\n",
    "            minor_dept = course[\"Course Code\"][:2]\n",
    "            if minor_dept in minor_dict:\n",
    "                minor_dict[minor_dept] += course[\"Credits\"]\n",
    "            else:\n",
    "                minor_dict[minor_dept] = course[\"Credits\"]\n",
    "    for minor in minor_dict:\n",
    "        if minor_dict[minor] >= 10:\n",
    "            print(\"Roll Number: \" + student[0] + \", Department: \" +\n",
    "                  student[1] + \" Completed a Minor in \" + minor + \" Department.\")"
   ],
   "outputs": [
    {
     "name": "stdout",
     "output_type": "stream",
     "text": [
      "Roll Number: 588946, Department: MA Completed a Minor in ME Department.\n",
      "Roll Number: 588946, Department: MA Completed a Minor in EP Department.\n",
      "Roll Number: 145372, Department: EP Completed a Minor in EC Department.\n",
      "Roll Number: 145372, Department: EP Completed a Minor in EE Department.\n",
      "Roll Number: 344265, Department: CSE Completed a Minor in ME Department.\n",
      "Roll Number: 344265, Department: CSE Completed a Minor in CE Department.\n",
      "Roll Number: 358405, Department: MA Completed a Minor in CH Department.\n",
      "Roll Number: 781075, Department: CE Completed a Minor in EC Department.\n",
      "Roll Number: 836881, Department: MM Completed a Minor in CH Department.\n",
      "Roll Number: 836881, Department: MM Completed a Minor in EE Department.\n",
      "Roll Number: 836881, Department: MM Completed a Minor in EP Department.\n",
      "Roll Number: 847809, Department: IE Completed a Minor in ME Department.\n",
      "Roll Number: 847809, Department: IE Completed a Minor in EP Department.\n",
      "Roll Number: 847809, Department: IE Completed a Minor in CH Department.\n",
      "Roll Number: 847809, Department: IE Completed a Minor in EE Department.\n",
      "Roll Number: 773982, Department: EE Completed a Minor in CE Department.\n",
      "Roll Number: 810863, Department: CE Completed a Minor in EP Department.\n",
      "Roll Number: 810863, Department: CE Completed a Minor in CS Department.\n",
      "Roll Number: 124663, Department: EE Completed a Minor in CE Department.\n",
      "Roll Number: 364146, Department: MA Completed a Minor in MM Department.\n",
      "Roll Number: 364146, Department: MA Completed a Minor in EC Department.\n",
      "Roll Number: 597353, Department: CSE Completed a Minor in IE Department.\n",
      "Roll Number: 597353, Department: CSE Completed a Minor in MM Department.\n",
      "Roll Number: 718510, Department: EP Completed a Minor in IE Department.\n",
      "Roll Number: 718510, Department: EP Completed a Minor in MM Department.\n",
      "Roll Number: 836431, Department: EE Completed a Minor in CS Department.\n",
      "Roll Number: 379479, Department: MA Completed a Minor in CH Department.\n",
      "Roll Number: 788020, Department: CE Completed a Minor in IE Department.\n",
      "Roll Number: 788020, Department: CE Completed a Minor in MA Department.\n",
      "Roll Number: 613401, Department: CE Completed a Minor in EC Department.\n",
      "Roll Number: 144528, Department: ME Completed a Minor in MA Department.\n",
      "Roll Number: 199713, Department: EE Completed a Minor in CE Department.\n",
      "Roll Number: 851029, Department: CSE Completed a Minor in MM Department.\n",
      "Roll Number: 845623, Department: EE Completed a Minor in EP Department.\n",
      "Roll Number: 214270, Department: CH Completed a Minor in IE Department.\n",
      "Roll Number: 482623, Department: IE Completed a Minor in CS Department.\n",
      "Roll Number: 482623, Department: IE Completed a Minor in CH Department.\n",
      "Roll Number: 721490, Department: EP Completed a Minor in ME Department.\n",
      "Roll Number: 955757, Department: MM Completed a Minor in MA Department.\n",
      "Roll Number: 143856, Department: CE Completed a Minor in ME Department.\n",
      "Roll Number: 571782, Department: ME Completed a Minor in MA Department.\n",
      "Roll Number: 973158, Department: EE Completed a Minor in ME Department.\n",
      "Roll Number: 973158, Department: EE Completed a Minor in CH Department.\n",
      "Roll Number: 703403, Department: EC Completed a Minor in CS Department.\n",
      "Roll Number: 703403, Department: EC Completed a Minor in ME Department.\n",
      "Roll Number: 703403, Department: EC Completed a Minor in EE Department.\n",
      "Roll Number: 960395, Department: EE Completed a Minor in MA Department.\n",
      "Roll Number: 960395, Department: EE Completed a Minor in IE Department.\n",
      "Roll Number: 521087, Department: CSE Completed a Minor in MM Department.\n",
      "Roll Number: 461971, Department: CE Completed a Minor in ME Department.\n",
      "Roll Number: 461971, Department: CE Completed a Minor in EP Department.\n",
      "Roll Number: 716985, Department: MM Completed a Minor in CS Department.\n",
      "Roll Number: 716985, Department: MM Completed a Minor in CE Department.\n",
      "Roll Number: 283796, Department: ME Completed a Minor in MA Department.\n",
      "Roll Number: 301135, Department: IE Completed a Minor in EE Department.\n",
      "Roll Number: 381526, Department: CE Completed a Minor in CS Department.\n",
      "Roll Number: 329535, Department: EC Completed a Minor in EP Department.\n",
      "Roll Number: 971123, Department: MA Completed a Minor in CS Department.\n",
      "Roll Number: 782129, Department: MA Completed a Minor in MM Department.\n",
      "Roll Number: 581858, Department: MA Completed a Minor in CH Department.\n",
      "Roll Number: 733782, Department: CH Completed a Minor in IE Department.\n",
      "Roll Number: 572815, Department: CSE Completed a Minor in CE Department.\n",
      "Roll Number: 608952, Department: EP Completed a Minor in ME Department.\n",
      "Roll Number: 628849, Department: MA Completed a Minor in EC Department.\n",
      "Roll Number: 628849, Department: MA Completed a Minor in MM Department.\n",
      "Roll Number: 628849, Department: MA Completed a Minor in EP Department.\n",
      "Roll Number: 630568, Department: EP Completed a Minor in EC Department.\n",
      "Roll Number: 388969, Department: CSE Completed a Minor in CE Department.\n",
      "Roll Number: 388969, Department: CSE Completed a Minor in EP Department.\n",
      "Roll Number: 159438, Department: EE Completed a Minor in IE Department.\n",
      "Roll Number: 478606, Department: CE Completed a Minor in EC Department.\n",
      "Roll Number: 995208, Department: ME Completed a Minor in CS Department.\n",
      "Roll Number: 143142, Department: CSE Completed a Minor in MA Department.\n",
      "Roll Number: 907454, Department: CSE Completed a Minor in IE Department.\n",
      "Roll Number: 907454, Department: CSE Completed a Minor in EP Department.\n",
      "Roll Number: 907454, Department: CSE Completed a Minor in MA Department.\n",
      "Roll Number: 681499, Department: CH Completed a Minor in CE Department.\n",
      "Roll Number: 888886, Department: CE Completed a Minor in IE Department.\n",
      "Roll Number: 888886, Department: CE Completed a Minor in MM Department.\n",
      "Roll Number: 465496, Department: MA Completed a Minor in CE Department.\n",
      "Roll Number: 465496, Department: MA Completed a Minor in ME Department.\n",
      "Roll Number: 465496, Department: MA Completed a Minor in IE Department.\n",
      "Roll Number: 138296, Department: MM Completed a Minor in EC Department.\n",
      "Roll Number: 461584, Department: EE Completed a Minor in CH Department.\n",
      "Roll Number: 581065, Department: EP Completed a Minor in CH Department.\n",
      "Roll Number: 581065, Department: EP Completed a Minor in EE Department.\n",
      "Roll Number: 381227, Department: CE Completed a Minor in CS Department.\n",
      "Roll Number: 816041, Department: MA Completed a Minor in IE Department.\n",
      "Roll Number: 993835, Department: CE Completed a Minor in CS Department.\n"
     ]
    }
   ],
   "execution_count": 206
  },
  {
   "cell_type": "markdown",
   "metadata": {},
   "source": [
    "#### 2.e: Print out the names of all students who completed a honours\n",
    "Atleast 10 credits with honours tag and 20 core credits"
   ]
  },
  {
   "cell_type": "code",
   "metadata": {
    "ExecuteTime": {
     "end_time": "2024-12-05T05:10:17.784843Z",
     "start_time": "2024-12-05T05:10:17.769450Z"
    }
   },
   "source": [
    "GRADE_CONVERT = {\"AP\": 10, \"AA\": 10, \"AB\": 9, \"BB\": 8, \"BC\": 7, \"CC\": 6}\n",
    "\n",
    "file = open(\"student_records.csv\")\n",
    "lines = file.readlines()[1:]\n",
    "\n",
    "student_dict = {}\n",
    "\n",
    "for line in lines:\n",
    "    data = line.split(\",\")\n",
    "    student_details = (data[0], data[1])\n",
    "    course_dict = {\"Credits\": int(data[2]), \"Course Code\": data[3],\n",
    "                   \"Course Type\": data[4], \"Grade\": GRADE_CONVERT[data[5].replace('\\n', '')]}\n",
    "    if student_details in student_dict:\n",
    "        student_dict[student_details].append(course_dict)\n",
    "    else:\n",
    "        student_dict[student_details] = [course_dict]\n",
    "\n",
    "file.close()\n",
    "\n",
    "for student in student_dict:\n",
    "    core_creds = 0\n",
    "    honors_creds = 0\n",
    "    for course in student_dict[student]:\n",
    "        if course[\"Course Type\"] == \"core\":\n",
    "            core_creds += course[\"Credits\"]\n",
    "        elif course[\"Course Type\"] == \"honours\":\n",
    "            honors_creds += course[\"Credits\"]\n",
    "\n",
    "    if core_creds >= 20 and honors_creds >= 10:\n",
    "        print(\"Roll Number: \" + student[0] + \", Department: \" + student[1])"
   ],
   "outputs": [
    {
     "name": "stdout",
     "output_type": "stream",
     "text": [
      "Roll Number: 588946, Department: MA\n",
      "Roll Number: 145372, Department: EP\n",
      "Roll Number: 834515, Department: MA\n",
      "Roll Number: 781075, Department: CE\n",
      "Roll Number: 836881, Department: MM\n",
      "Roll Number: 310604, Department: EE\n",
      "Roll Number: 773982, Department: EE\n",
      "Roll Number: 500658, Department: CE\n",
      "Roll Number: 810863, Department: CE\n",
      "Roll Number: 124663, Department: EE\n",
      "Roll Number: 364146, Department: MA\n",
      "Roll Number: 871746, Department: IE\n",
      "Roll Number: 986057, Department: ME\n",
      "Roll Number: 718510, Department: EP\n",
      "Roll Number: 379479, Department: MA\n",
      "Roll Number: 582912, Department: CH\n",
      "Roll Number: 788020, Department: CE\n",
      "Roll Number: 613401, Department: CE\n",
      "Roll Number: 144528, Department: ME\n",
      "Roll Number: 485484, Department: MM\n",
      "Roll Number: 199713, Department: EE\n",
      "Roll Number: 845623, Department: EE\n",
      "Roll Number: 150503, Department: CH\n",
      "Roll Number: 214270, Department: CH\n",
      "Roll Number: 517837, Department: CH\n",
      "Roll Number: 482623, Department: IE\n",
      "Roll Number: 721490, Department: EP\n",
      "Roll Number: 955757, Department: MM\n",
      "Roll Number: 589528, Department: EE\n",
      "Roll Number: 143856, Department: CE\n",
      "Roll Number: 571782, Department: ME\n",
      "Roll Number: 973158, Department: EE\n",
      "Roll Number: 703403, Department: EC\n",
      "Roll Number: 960395, Department: EE\n",
      "Roll Number: 521087, Department: CSE\n",
      "Roll Number: 461971, Department: CE\n",
      "Roll Number: 879634, Department: EP\n",
      "Roll Number: 716985, Department: MM\n",
      "Roll Number: 265922, Department: EP\n",
      "Roll Number: 283796, Department: ME\n",
      "Roll Number: 203200, Department: CH\n",
      "Roll Number: 327122, Department: MM\n",
      "Roll Number: 534763, Department: MA\n",
      "Roll Number: 391848, Department: ME\n",
      "Roll Number: 971123, Department: MA\n",
      "Roll Number: 207443, Department: ME\n",
      "Roll Number: 488661, Department: EE\n",
      "Roll Number: 782129, Department: MA\n",
      "Roll Number: 928288, Department: CSE\n",
      "Roll Number: 581858, Department: MA\n",
      "Roll Number: 282482, Department: MM\n",
      "Roll Number: 572815, Department: CSE\n",
      "Roll Number: 608952, Department: EP\n",
      "Roll Number: 628849, Department: MA\n",
      "Roll Number: 630568, Department: EP\n",
      "Roll Number: 388969, Department: CSE\n",
      "Roll Number: 159438, Department: EE\n",
      "Roll Number: 870642, Department: MM\n",
      "Roll Number: 970791, Department: MA\n",
      "Roll Number: 143142, Department: CSE\n",
      "Roll Number: 998293, Department: ME\n",
      "Roll Number: 681499, Department: CH\n",
      "Roll Number: 888886, Department: CE\n",
      "Roll Number: 608522, Department: EC\n",
      "Roll Number: 362471, Department: EE\n",
      "Roll Number: 465496, Department: MA\n",
      "Roll Number: 208100, Department: EE\n",
      "Roll Number: 692318, Department: CSE\n",
      "Roll Number: 626000, Department: EC\n",
      "Roll Number: 458200, Department: EC\n",
      "Roll Number: 581065, Department: EP\n",
      "Roll Number: 787967, Department: EC\n",
      "Roll Number: 750259, Department: MM\n",
      "Roll Number: 881983, Department: MA\n",
      "Roll Number: 294697, Department: MM\n"
     ]
    }
   ],
   "execution_count": 207
  },
  {
   "cell_type": "markdown",
   "metadata": {},
   "source": [
    "# **SciPy** "
   ]
  },
  {
   "cell_type": "markdown",
   "metadata": {},
   "source": [
    "## Part A\n",
    "Minimize the function $f(x, y) = 2(x - y - 3)^2 + 4(x + 2y + 1)^4$.<br>\n",
    "With the constraints : $ x - y \\ge -3, (x + 2)^2 + (y + 1)^2 \\le 5$ <br>\n",
    "Using scipy.optimize.minimize with constraints. (Hint: Look at the examples in the official documentation)"
   ]
  },
  {
   "cell_type": "code",
   "metadata": {
    "ExecuteTime": {
     "end_time": "2024-12-05T05:10:17.805698Z",
     "start_time": "2024-12-05T05:10:17.793200Z"
    }
   },
   "source": [
    "from scipy.optimize import LinearConstraint\n",
    "from scipy.optimize import NonlinearConstraint\n",
    "from scipy.optimize import minimize\n",
    "import numpy as np\n",
    "\n",
    "def fun(x):\n",
    "    return 2*(x[0]-x[1]-3)**2 + 4*(x[0]+2*x[1]+1)**4\n",
    "\n",
    "def cons_f(x):\n",
    "    return (x[0]+2)**2 + (x[1]+1)**2\n",
    "\n",
    "linear_constraint = LinearConstraint([1, -1], -3, np.inf)\n",
    "non_linear_constraint = NonlinearConstraint(cons_f, -np.inf, 5)\n",
    "res = minimize(fun, np.random.random(2), constraints=[linear_constraint, non_linear_constraint])\n",
    "print(\"x = \", res.x[0], \", y = \", res.x[1])"
   ],
   "outputs": [
    {
     "name": "stdout",
     "output_type": "stream",
     "text": [
      "x =  0.23492502316727365 , y =  -0.9285147416380921\n"
     ]
    }
   ],
   "execution_count": 208
  },
  {
   "cell_type": "markdown",
   "metadata": {},
   "source": [
    "# Part B\n",
    "Evaluate the line integral of the function $f(x, y) = x^2 + y^4$ along the circle $ x^2 + y^2 = 3 $ anticlockwise (scalar integral, not vector). You must use scipy for integration but you may use parameterization"
   ]
  },
  {
   "cell_type": "code",
   "metadata": {
    "ExecuteTime": {
     "end_time": "2024-12-05T05:10:17.830107Z",
     "start_time": "2024-12-05T05:10:17.823404Z"
    }
   },
   "source": [
    "from numpy import sin, cos, pi, sqrt\n",
    "from scipy import integrate\n",
    "\n",
    "result = integrate.quad(lambda x : sqrt(3) * (cos(x) ** 2 + sin(x) ** 4), 0, 2*pi)\n",
    "print(\"Answer: \", result[0])\n",
    "print(\"Error: \", result[1])"
   ],
   "outputs": [
    {
     "name": "stdout",
     "output_type": "stream",
     "text": [
      "Answer:  9.522446662229642\n",
      "Error:  9.984747195712629e-10\n"
     ]
    }
   ],
   "execution_count": 209
  },
  {
   "cell_type": "markdown",
   "metadata": {},
   "source": [
    "# **Numpy**"
   ]
  },
  {
   "cell_type": "markdown",
   "metadata": {},
   "source": [
    "### Read Lisan_Al_Gaib.pdf for problem description and complete the following functions"
   ]
  },
  {
   "cell_type": "code",
   "metadata": {
    "ExecuteTime": {
     "end_time": "2024-12-05T05:10:17.842222Z",
     "start_time": "2024-12-05T05:10:17.830107Z"
    }
   },
   "source": [
    "import time # to time the execution\n",
    "import numpy as np\n",
    "import matplotlib.pyplot as plt"
   ],
   "outputs": [],
   "execution_count": 210
  },
  {
   "cell_type": "code",
   "metadata": {
    "ExecuteTime": {
     "end_time": "2024-12-05T05:10:17.859874Z",
     "start_time": "2024-12-05T05:10:17.850772Z"
    }
   },
   "source": [
    "# Load data from data_path\n",
    "# Check the input file spice_locations.txt to understand the Data Format\n",
    "# Return : np array of size Nx2\n",
    "def load_data(data_path):\n",
    "    file = open(data_path)\n",
    "    lines = file.readlines()\n",
    "    return np.array(list(map(lambda line:\n",
    "                             np.fromiter(map(lambda coord:\n",
    "                                             coord.replace(\"\\n\", \"\"),\n",
    "                                             line.split(',')),\n",
    "                                         dtype=np.longdouble),\n",
    "                             lines)))"
   ],
   "outputs": [],
   "execution_count": 211
  },
  {
   "cell_type": "code",
   "metadata": {
    "ExecuteTime": {
     "end_time": "2024-12-05T05:10:17.872525Z",
     "start_time": "2024-12-05T05:10:17.869252Z"
    }
   },
   "source": [
    "### If init_centers is None, initialize the centers by selecting K data points at random without replacement\n",
    "### Else, use the centers provided in init_centers\n",
    "### Return : np array of size Kx2\n",
    "def initialise_centers(data, K, init_centers=None):\n",
    "    if not init_centers:\n",
    "        return data[np.random.choice(data.shape[0], K, replace=False), :]\n",
    "    else:\n",
    "        return init_centers"
   ],
   "outputs": [],
   "execution_count": 212
  },
  {
   "cell_type": "code",
   "metadata": {
    "ExecuteTime": {
     "end_time": "2024-12-05T05:10:17.884689Z",
     "start_time": "2024-12-05T05:10:17.880795Z"
    }
   },
   "source": [
    "### TODO 2.2\n",
    "### Initialize the labels to all ones to size (N,) where N is the number of data points\n",
    "### Return : np array of size N\n",
    "def initialise_labels(data):\n",
    "    return np.full(len(data), 1)"
   ],
   "outputs": [],
   "execution_count": 213
  },
  {
   "cell_type": "code",
   "metadata": {
    "ExecuteTime": {
     "end_time": "2024-12-05T05:10:17.898458Z",
     "start_time": "2024-12-05T05:10:17.893361Z"
    }
   },
   "source": [
    "# TODO 3.1 : E step\n",
    "# For Each data point, find the distance to each center\n",
    "# Return : np array of size NxK\n",
    "def calculate_distances(data, centers):\n",
    "    return np.array(list(map(lambda point:\n",
    "                             list(map(lambda center:\n",
    "                                      np.sqrt((point[0] - center[0])**2\n",
    "                                              + (point[1] - center[1])**2),\n",
    "                                      centers)),\n",
    "                             data)))"
   ],
   "outputs": [],
   "execution_count": 214
  },
  {
   "cell_type": "code",
   "metadata": {
    "ExecuteTime": {
     "end_time": "2024-12-05T05:10:17.911685Z",
     "start_time": "2024-12-05T05:10:17.907110Z"
    }
   },
   "source": [
    "### TODO 3.2 : E step\n",
    "### For Each data point, assign the label of the nearest center\n",
    "### Return : np array of size N\n",
    "def update_labels(distances):\n",
    "    return np.array(list(map(np.argmin, distances)))"
   ],
   "outputs": [],
   "execution_count": 215
  },
  {
   "cell_type": "code",
   "metadata": {
    "ExecuteTime": {
     "end_time": "2024-12-05T05:10:17.927074Z",
     "start_time": "2024-12-05T05:10:17.921355Z"
    }
   },
   "source": [
    "### TODO 4 : M step\n",
    "### Update the centers to the mean of the data points assigned to it\n",
    "### Return : np array of size Kx2\n",
    "\n",
    "def update_centers(data, labels, K):\n",
    "    sum_points = np.zeros((K, 2))\n",
    "    count_points = np.zeros(K)\n",
    "    \n",
    "    np.add.at(sum_points, labels, data)\n",
    "    np.add.at(count_points, labels, 1)\n",
    "\n",
    "    return sum_points / count_points[:, None]"
   ],
   "outputs": [],
   "execution_count": 216
  },
  {
   "cell_type": "code",
   "metadata": {
    "ExecuteTime": {
     "end_time": "2024-12-05T05:10:17.940985Z",
     "start_time": "2024-12-05T05:10:17.936032Z"
    }
   },
   "source": [
    "### TODO 6 : Check convergence\n",
    "### Check if the labels have changed from the previous iteration\n",
    "### Return : True / False\n",
    "def check_termination(labels1, labels2):\n",
    "    return np.array_equal(labels1, labels2)"
   ],
   "outputs": [],
   "execution_count": 217
  },
  {
   "cell_type": "code",
   "metadata": {
    "ExecuteTime": {
     "end_time": "2024-12-05T05:10:17.956681Z",
     "start_time": "2024-12-05T05:10:17.951078Z"
    }
   },
   "source": [
    "# DON'T CHANGE ANYTHING IN THE FOLLOWING FUNCTION\n",
    "def kmeans(data_path: str, K: int, init_centers):\n",
    "    '''\n",
    "    Input :\n",
    "        data (type str): path to the file containing the data\n",
    "        K (type int): number of clusters\n",
    "        init_centers (type numpy.ndarray): initial centers. shape = (K, 2) or None\n",
    "    Output :\n",
    "        centers (type numpy.ndarray): final centers. shape = (K, 2)\n",
    "        labels (type numpy.ndarray): label of each data point. shape = (N,)\n",
    "        time (type float): time taken by the algorithm to converge in seconds\n",
    "    N is the number of data points each of shape (2,)\n",
    "    '''\n",
    "    data = load_data(data_path)\n",
    "    centers = initialise_centers(data, K, init_centers)\n",
    "    labels = initialise_labels(data)\n",
    "\n",
    "    start_time = time.time()  # Time stamp\n",
    "\n",
    "    while True:\n",
    "        distances = calculate_distances(data, centers)\n",
    "        labels_new = update_labels(distances)\n",
    "        centers = update_centers(data, labels_new, K)\n",
    "        if check_termination(labels, labels_new):\n",
    "            break\n",
    "        else:\n",
    "            labels = labels_new\n",
    "\n",
    "    end_time = time.time()  # Time stamp after the algorithm ends\n",
    "    return centers, labels, end_time - start_time"
   ],
   "outputs": [],
   "execution_count": 218
  },
  {
   "cell_type": "code",
   "metadata": {
    "ExecuteTime": {
     "end_time": "2024-12-05T05:10:17.970170Z",
     "start_time": "2024-12-05T05:10:17.964842Z"
    }
   },
   "source": [
    "### TODO 7\n",
    "def visualise(data_path, labels, centers):\n",
    "    data = load_data(data_path)\n",
    "\n",
    "    # Scatter plot of the data points\n",
    "    plt.scatter(data[:, 0], data[:, 1], c=labels, s=50, cmap='viridis')\n",
    "    plt.scatter(centers[:, 0], centers[:, 1], c='black', s=200, alpha=0.5)\n",
    "\n",
    "    ### Set title as 'K-means clustering'\n",
    "    plt.title(\"K-means clustering\")\n",
    "\n",
    "    ### Set xlabel as 'Longitude'\n",
    "    plt.xlabel(\"Longitude\")\n",
    "\n",
    "    ### Set ylabel as 'Latitude'\n",
    "    plt.ylabel(\"Latitude\")\n",
    "\n",
    "    ### Save the plot as 'kmeans.png'\n",
    "    plt.savefig(\"kmeans.png\")\n",
    "\n",
    "\n",
    "    ## DO NOT CHANGE THE FOLLOWING LINE\n",
    "    return plt"
   ],
   "outputs": [],
   "execution_count": 219
  },
  {
   "cell_type": "code",
   "metadata": {
    "ExecuteTime": {
     "end_time": "2024-12-05T05:10:18.141610Z",
     "start_time": "2024-12-05T05:10:17.985935Z"
    }
   },
   "source": [
    "### After you have completed the above functions, run the following code to generate the plot\n",
    "data_path = 'spice_locations.txt'\n",
    "K, init_centers = 2, None\n",
    "centers, labels, time_taken = kmeans(data_path, K, init_centers)\n",
    "print('Time taken for the algorithm to converge:', time_taken)\n",
    "visualise(data_path, labels, centers)"
   ],
   "outputs": [
    {
     "name": "stdout",
     "output_type": "stream",
     "text": [
      "Time taken for the algorithm to converge: 0.0\n"
     ]
    },
    {
     "data": {
      "text/plain": [
       "<module 'matplotlib.pyplot' from 'C:\\\\Users\\\\harsh\\\\Desktop\\\\Coding\\\\python-projects\\\\CPP-Assignment-Solved\\\\.venv\\\\Lib\\\\site-packages\\\\matplotlib\\\\pyplot.py'>"
      ]
     },
     "execution_count": 220,
     "metadata": {},
     "output_type": "execute_result"
    },
    {
     "data": {
      "text/plain": [
       "<Figure size 640x480 with 1 Axes>"
      ],
      "image/png": "[encoded data removed]"
     },
     "metadata": {},
     "output_type": "display_data"
    }
   ],
   "execution_count": 220
  }
 ],
 "metadata": {
  "kernelspec": {
   "display_name": ".venv",
   "language": "python",
   "name": "python3"
  },
  "language_info": {
   "codemirror_mode": {
    "name": "ipython",
    "version": 3
   },
   "file_extension": ".py",
   "mimetype": "text/x-python",
   "name": "python",
   "nbconvert_exporter": "python",
   "pygments_lexer": "ipython3",
   "version": "3.11.10"
  }
 },
 "nbformat": 4,
 "nbformat_minor": 2
}
